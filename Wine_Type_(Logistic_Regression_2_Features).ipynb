{
  "nbformat": 4,
  "nbformat_minor": 0,
  "metadata": {
    "colab": {
      "name": "Wine Type (Logistic Regression - 2 Features).ipynb",
      "provenance": [],
      "collapsed_sections": []
    },
    "kernelspec": {
      "name": "python3",
      "display_name": "Python 3"
    }
  },
  "cells": [
    {
      "cell_type": "markdown",
      "metadata": {
        "id": "Ncq18GwrEfI3",
        "colab_type": "text"
      },
      "source": [
        "Importing required libraries"
      ]
    },
    {
      "cell_type": "code",
      "metadata": {
        "id": "MNL2h6sV03uv",
        "colab_type": "code",
        "colab": {}
      },
      "source": [
        "import numpy as np\n",
        "import pandas as pd\n",
        "import matplotlib.pyplot as plt\n",
        "\n",
        "%matplotlib inline\n",
        "\n",
        "from sklearn.model_selection import train_test_split\n",
        "from sklearn.linear_model import LogisticRegression\n",
        "from sklearn.metrics import accuracy_score\n",
        "\n",
        "from tabulate import tabulate"
      ],
      "execution_count": 0,
      "outputs": []
    },
    {
      "cell_type": "markdown",
      "metadata": {
        "id": "spJ9pQ0MElnI",
        "colab_type": "text"
      },
      "source": [
        "**Loading dataset from my google drive**\n",
        "> When prompted, click on the link to get authentication to allow Google to access your Drive. You should see a screen with “Google Cloud SDK wants to access your Google Account” at the top. After you allow permission, copy the given verification code and paste it in the box in Colab."
      ]
    },
    {
      "cell_type": "code",
      "metadata": {
        "id": "UFrhZjgb1ucZ",
        "colab_type": "code",
        "colab": {}
      },
      "source": [
        "!pip install -U -q PyDrive\n",
        "from pydrive.auth import GoogleAuth\n",
        "from pydrive.drive import GoogleDrive\n",
        "from google.colab import auth\n",
        "from oauth2client.client import GoogleCredentials\n",
        "# Authenticate and create the PyDrive client.\n",
        "auth.authenticate_user()\n",
        "gauth = GoogleAuth()\n",
        "gauth.credentials = GoogleCredentials.get_application_default()\n",
        "drive = GoogleDrive(gauth)"
      ],
      "execution_count": 0,
      "outputs": []
    },
    {
      "cell_type": "markdown",
      "metadata": {
        "id": "8SX13jcREnDW",
        "colab_type": "text"
      },
      "source": [
        "Once you have completed verification, go to the CSV file in Google Drive, right-click on it and select “Get shareable link”. The link will be copied into your clipboard. Paste this link into a string variable in Colab."
      ]
    },
    {
      "cell_type": "code",
      "metadata": {
        "id": "l8JM4l2u2NtH",
        "colab_type": "code",
        "colab": {}
      },
      "source": [
        "link = \"https://drive.google.com/open?id=1-4kayelqVCPoy_9VbRvNEtpcJDz_1Qx7\""
      ],
      "execution_count": 0,
      "outputs": []
    },
    {
      "cell_type": "markdown",
      "metadata": {
        "id": "PZLnoRhoEqXR",
        "colab_type": "text"
      },
      "source": [
        "What you want is the id portion after the equal sign. To get that portion, type in the following code:"
      ]
    },
    {
      "cell_type": "code",
      "metadata": {
        "id": "USp9R91E2gPw",
        "colab_type": "code",
        "colab": {
          "base_uri": "https://localhost:8080/",
          "height": 34
        },
        "outputId": "32a60990-aa59-4a1c-efd7-de68a65f22cb"
      },
      "source": [
        "fluff, id = link.split('=')\n",
        "print(id)"
      ],
      "execution_count": 8,
      "outputs": [
        {
          "output_type": "stream",
          "text": [
            "1-4kayelqVCPoy_9VbRvNEtpcJDz_1Qx7\n"
          ],
          "name": "stdout"
        }
      ]
    },
    {
      "cell_type": "markdown",
      "metadata": {
        "id": "jX_frSkHEuvs",
        "colab_type": "text"
      },
      "source": [
        "Finally, type in the following code to get the file into a dataframe"
      ]
    },
    {
      "cell_type": "code",
      "metadata": {
        "id": "_Ya3Llk52jnA",
        "colab_type": "code",
        "colab": {}
      },
      "source": [
        "downloaded = drive.CreateFile({'id':id}) \n",
        "downloaded.GetContentFile('wine_quality.csv')  \n",
        "wine = pd.read_csv('wine_quality.csv')"
      ],
      "execution_count": 0,
      "outputs": []
    },
    {
      "cell_type": "markdown",
      "metadata": {
        "id": "ManXVzxEE1wR",
        "colab_type": "text"
      },
      "source": [
        "Checking all columns after loading the data from the drive"
      ]
    },
    {
      "cell_type": "code",
      "metadata": {
        "id": "fQ2OUus_249T",
        "colab_type": "code",
        "colab": {
          "base_uri": "https://localhost:8080/",
          "height": 102
        },
        "outputId": "4da466fc-8d7f-4d77-d307-92ad3b5f43b6"
      },
      "source": [
        "wine.columns"
      ],
      "execution_count": 11,
      "outputs": [
        {
          "output_type": "execute_result",
          "data": {
            "text/plain": [
              "Index(['Unnamed: 0', 'fixed acidity', 'volatile acidity', 'citric acid',\n",
              "       'residual sugar', 'chlorides', 'free sulfur dioxide',\n",
              "       'total sulfur dioxide', 'density', 'pH', 'sulphates', 'alcohol',\n",
              "       'quality', 'type', 'quality_label'],\n",
              "      dtype='object')"
            ]
          },
          "metadata": {
            "tags": []
          },
          "execution_count": 11
        }
      ]
    },
    {
      "cell_type": "markdown",
      "metadata": {
        "id": "-acGb7ZwFCEG",
        "colab_type": "text"
      },
      "source": [
        "Drop the extra column named 'Unnamed: 0'"
      ]
    },
    {
      "cell_type": "code",
      "metadata": {
        "id": "0TiFssbs26KE",
        "colab_type": "code",
        "colab": {}
      },
      "source": [
        "wine = wine.drop(['Unnamed: 0'], axis=1)"
      ],
      "execution_count": 0,
      "outputs": []
    },
    {
      "cell_type": "markdown",
      "metadata": {
        "id": "qHDbNR1VFJb5",
        "colab_type": "text"
      },
      "source": [
        "From the visualizations in the previous notebook [Data visualization](https://colab.research.google.com/drive/1QEXx8AlGdjyVLPS7SJJX5Q3sB3CfcOak), we know that the features 'volatile acidity' and 'total sulfur dioxide' are highly relevant to the output target 'type'. So we will be storing those two attributes in variables x1 and x2, and the target in the variable y."
      ]
    },
    {
      "cell_type": "code",
      "metadata": {
        "id": "qz0wgf8T3JtS",
        "colab_type": "code",
        "colab": {}
      },
      "source": [
        "x1 = wine['volatile acidity'].values\n",
        "x2 = wine['total sulfur dioxide'].values\n",
        "\n",
        "y = wine['type'].values"
      ],
      "execution_count": 0,
      "outputs": []
    },
    {
      "cell_type": "markdown",
      "metadata": {
        "id": "sDS49WkPJWt_",
        "colab_type": "text"
      },
      "source": [
        "Standardization of features"
      ]
    },
    {
      "cell_type": "code",
      "metadata": {
        "id": "IWxUeH8k5jxm",
        "colab_type": "code",
        "colab": {}
      },
      "source": [
        "x1 = (x1 - x1.min()) / (x1.max() - x1.min())\n",
        "x2 = (x2 - x2.min()) / (x2.max() - x2.min())"
      ],
      "execution_count": 0,
      "outputs": []
    },
    {
      "cell_type": "markdown",
      "metadata": {
        "id": "1NI4p3uDJadj",
        "colab_type": "text"
      },
      "source": [
        "Splitting dataset into training and testing"
      ]
    },
    {
      "cell_type": "code",
      "metadata": {
        "id": "SnrJy49d4H_1",
        "colab_type": "code",
        "colab": {}
      },
      "source": [
        "x1_train, x1_test, x2_train, x2_test, y_train, y_test = train_test_split(x1, x2, y, test_size=0.2)"
      ],
      "execution_count": 0,
      "outputs": []
    },
    {
      "cell_type": "markdown",
      "metadata": {
        "id": "g6Fb26cFLJVo",
        "colab_type": "text"
      },
      "source": [
        "**Logistic Regression**\n",
        "> Logistic Regression is a Machine Learning algorithm which is used for the classification problems, it is a predictive analysis algorithm and based on the concept of probability."
      ]
    },
    {
      "cell_type": "markdown",
      "metadata": {
        "id": "LfRXp6ZdLcCI",
        "colab_type": "text"
      },
      "source": [
        "**What is the Sigmoid Function?**\n",
        ">In order to map predicted values to probabilities, we use the Sigmoid function. The function maps any real value into another value between 0 and 1."
      ]
    },
    {
      "cell_type": "markdown",
      "metadata": {
        "id": "rh1OEVAeLxWp",
        "colab_type": "text"
      },
      "source": [
        "Sigmoid Function Graph\n",
        "\n",
        "---\n",
        "![Sigmoid Function Graph](https://miro.medium.com/max/640/1*OUOB_YF41M-O4GgZH_F2rw.png) "
      ]
    },
    {
      "cell_type": "code",
      "metadata": {
        "id": "hIO2AzqU4XiP",
        "colab_type": "code",
        "colab": {}
      },
      "source": [
        "def sigmoid(z):\n",
        "  return 1 / (1 + np.exp(-z))"
      ],
      "execution_count": 0,
      "outputs": []
    },
    {
      "cell_type": "markdown",
      "metadata": {
        "id": "Bp92RqBKMW3G",
        "colab_type": "text"
      },
      "source": [
        "Cost Function\n",
        "\n",
        "\n",
        "---\n",
        "\n",
        "![Cost Function](https://miro.medium.com/max/801/1*2g14OVjyJqio2zXwJxgj2w.png)"
      ]
    },
    {
      "cell_type": "code",
      "metadata": {
        "id": "gkKiYNf14djT",
        "colab_type": "code",
        "colab": {}
      },
      "source": [
        "def error(a,b,c,x1,x2,y):\n",
        "  err = 0\n",
        "  N = len(y)\n",
        "  for i in range(N):\n",
        "    f = a*x1[i] + b*x2[i] + c\n",
        "    err += -y[i]*np.log(sigmoid(f)) - (1-y[i])*np.log(1-sigmoid(f))\n",
        "\n",
        "  return err/N"
      ],
      "execution_count": 0,
      "outputs": []
    },
    {
      "cell_type": "markdown",
      "metadata": {
        "id": "4DpFuYD4NYP5",
        "colab_type": "text"
      },
      "source": [
        "Gradient descent function\n",
        "> The main goal of Gradient descent is to minimize the cost value."
      ]
    },
    {
      "cell_type": "code",
      "metadata": {
        "id": "M5ruBGmL4tf6",
        "colab_type": "code",
        "colab": {}
      },
      "source": [
        "def step_gradient(a,b,c,x1,x2,y,learning_rate):\n",
        "  grad_a = 0\n",
        "  grad_b = 0\n",
        "  grad_c = 0\n",
        "  N = len(y)\n",
        "  for i in range(N):\n",
        "    f = a*x1[i] + b*x2[i] + c\n",
        "    grad_a += (sigmoid(f) - y[i])*x1[i]\n",
        "    grad_b += (sigmoid(f) - y[i])*x2[i]\n",
        "    grad_c += (sigmoid(f) - y[i])\n",
        "\n",
        "  a = a - (grad_a * learning_rate)\n",
        "  b = b - (grad_b * learning_rate)\n",
        "  c = c - (grad_c * learning_rate)\n",
        "\n",
        "  return a,b,c"
      ],
      "execution_count": 0,
      "outputs": []
    },
    {
      "cell_type": "code",
      "metadata": {
        "id": "sXRUnQ4A5DrO",
        "colab_type": "code",
        "colab": {}
      },
      "source": [
        "def descend(init_a,init_b,init_c,x1,x2,y,learning_rate,iterations):\n",
        "  a, b, c = init_a, init_b, init_c\n",
        "  for i in range(iterations):\n",
        "    err = error(a,b,c,x1,x2,y)\n",
        "    if i%1000 == 0:\n",
        "      print(\"Error: %.5f | a: %.5f | b: %.5f | c: %.5f\" %(err,a,b,c))\n",
        "    a,b,c = step_gradient(a,b,c,x1,x2,y,learning_rate)\n",
        "\n",
        "  return a,b,c"
      ],
      "execution_count": 0,
      "outputs": []
    },
    {
      "cell_type": "markdown",
      "metadata": {
        "id": "tEnHfSHANmZp",
        "colab_type": "text"
      },
      "source": [
        "Function to predict accuracy for raw code "
      ]
    },
    {
      "cell_type": "code",
      "metadata": {
        "id": "LfKz5OCv-4YR",
        "colab_type": "code",
        "colab": {}
      },
      "source": [
        "def accuracy(a,b,c,x1,x2,y):\n",
        "    correct = 0\n",
        "    for i in range(len(y)):\n",
        "        f = a*x1[i] + b*x2[i] + c\n",
        "        prediction = sigmoid(f)\n",
        "        if prediction > 0.5:\n",
        "            z = 1\n",
        "        else:\n",
        "            z = 0\n",
        "        if y[i] == z:\n",
        "            correct += 1\n",
        "\n",
        "    acc = (correct/len(y))*100\n",
        "            \n",
        "    return acc"
      ],
      "execution_count": 0,
      "outputs": []
    },
    {
      "cell_type": "markdown",
      "metadata": {
        "id": "PP0UcFT-Ns5T",
        "colab_type": "text"
      },
      "source": [
        "Defining parameters and bias"
      ]
    },
    {
      "cell_type": "code",
      "metadata": {
        "id": "JPsu8oAN5WmP",
        "colab_type": "code",
        "colab": {}
      },
      "source": [
        "a, b, c = 1, 1, 1\n",
        "learning_rate = 0.001\n",
        "iterations = 10000"
      ],
      "execution_count": 0,
      "outputs": []
    },
    {
      "cell_type": "markdown",
      "metadata": {
        "id": "i_ydMlp9Nwwj",
        "colab_type": "text"
      },
      "source": [
        "Training the model"
      ]
    },
    {
      "cell_type": "code",
      "metadata": {
        "id": "o1gBXkA_5041",
        "colab_type": "code",
        "colab": {
          "base_uri": "https://localhost:8080/",
          "height": 204
        },
        "outputId": "7b17e109-4adf-4708-c997-fd7a02fd0058"
      },
      "source": [
        "descend(a,b,c,x1_train,x2_train,y_train,learning_rate,iterations)"
      ],
      "execution_count": 25,
      "outputs": [
        {
          "output_type": "stream",
          "text": [
            "Error: 0.55993 | a: 1.00000 | b: 1.00000 | c: 1.00000\n",
            "Error: 0.12902 | a: -16.19544 | b: 22.86350 | c: -0.07151\n",
            "Error: 0.12612 | a: -18.20983 | b: 25.98138 | c: -0.18907\n",
            "Error: 0.12569 | a: -19.00775 | b: 27.20568 | c: -0.23214\n",
            "Error: 0.12560 | a: -19.37239 | b: 27.75936 | c: -0.25057\n",
            "Error: 0.12558 | a: -19.54749 | b: 28.02365 | c: -0.25910\n",
            "Error: 0.12558 | a: -19.63337 | b: 28.15288 | c: -0.26320\n",
            "Error: 0.12557 | a: -19.67591 | b: 28.21679 | c: -0.26522\n",
            "Error: 0.12557 | a: -19.69708 | b: 28.24858 | c: -0.26621\n",
            "Error: 0.12557 | a: -19.70764 | b: 28.26443 | c: -0.26671\n"
          ],
          "name": "stdout"
        },
        {
          "output_type": "execute_result",
          "data": {
            "text/plain": [
              "(-19.712920936728725, 28.27234561461619, -0.2669556707876454)"
            ]
          },
          "metadata": {
            "tags": []
          },
          "execution_count": 25
        }
      ]
    },
    {
      "cell_type": "markdown",
      "metadata": {
        "id": "xfrZ9VaKNy-o",
        "colab_type": "text"
      },
      "source": [
        "Plot the data vs hypothesis"
      ]
    },
    {
      "cell_type": "code",
      "metadata": {
        "id": "M7X9uwbV57Z_",
        "colab_type": "code",
        "colab": {
          "base_uri": "https://localhost:8080/",
          "height": 334
        },
        "outputId": "e1e9fa2e-18e4-4960-e380-aa64b7761758"
      },
      "source": [
        "h = a*x1_train + b*x2_train + c\n",
        "fig = plt.figure(figsize=(10,5))\n",
        "\n",
        "plt.subplot(1,2,1)\n",
        "plt.plot(x1_train, y_train, 'b.', x1_train, sigmoid(h), 'r.')\n",
        "plt.xlabel('volatile acidity')\n",
        "plt.ylabel('type')\n",
        "\n",
        "plt.subplot(1,2,2)\n",
        "plt.plot(x2_train, y_train, 'b.', x2_train, sigmoid(h), 'r.')\n",
        "plt.xlabel('total sulfur dioxide')\n",
        "plt.ylabel('type')\n",
        "\n",
        "plt.show()"
      ],
      "execution_count": 27,
      "outputs": [
        {
          "output_type": "display_data",
          "data": {
            "image/png": "[encoded data removed]",
            "text/plain": [
              "<Figure size 720x360 with 2 Axes>"
            ]
          },
          "metadata": {
            "tags": []
          }
        }
      ]
    },
    {
      "cell_type": "markdown",
      "metadata": {
        "id": "EIOuirDyN4g0",
        "colab_type": "text"
      },
      "source": [
        "Raw Code Accuracy"
      ]
    },
    {
      "cell_type": "code",
      "metadata": {
        "id": "xo4bNBegTQqG",
        "colab_type": "code",
        "colab": {
          "base_uri": "https://localhost:8080/",
          "height": 119
        },
        "outputId": "99e33dfd-3af5-49e3-b821-26e6036d36d8"
      },
      "source": [
        "train_acc1 = str(round(accuracy(a,b,c,x1_train,x2_train,y_train), 2)) + \"%\"\n",
        "test_acc1 = str(round(accuracy(a,b,c,x1_test,x2_test,y_test), 2)) + \"%\"\n",
        "\n",
        "raw_code_accuracy = [[train_acc1, test_acc1]]\n",
        "print('Raw Code Accuracy')\n",
        "print(tabulate(raw_code_accuracy, headers=['Train dataset', 'Test dataset'], tablefmt='fancy_grid'))"
      ],
      "execution_count": 82,
      "outputs": [
        {
          "output_type": "stream",
          "text": [
            "Raw Code Accuracy\n",
            "╒═════════════════╤════════════════╕\n",
            "│ Train dataset   │ Test dataset   │\n",
            "╞═════════════════╪════════════════╡\n",
            "│ 75.33%          │ 75.62%         │\n",
            "╘═════════════════╧════════════════╛\n"
          ],
          "name": "stdout"
        }
      ]
    },
    {
      "cell_type": "markdown",
      "metadata": {
        "id": "-bZYIBrwN7Sy",
        "colab_type": "text"
      },
      "source": [
        "Training the model with sklearn's inbuilt LogisticRegression linear model"
      ]
    },
    {
      "cell_type": "code",
      "metadata": {
        "id": "zoNu6ltLDCsV",
        "colab_type": "code",
        "colab": {}
      },
      "source": [
        "x_train = np.array([x1_train, x2_train])\n",
        "x_test = np.array([x1_test, x2_test])"
      ],
      "execution_count": 0,
      "outputs": []
    },
    {
      "cell_type": "code",
      "metadata": {
        "id": "yHXE909OLzyf",
        "colab_type": "code",
        "colab": {}
      },
      "source": [
        "x_train = x_train.T\n",
        "x_test = x_test.T"
      ],
      "execution_count": 0,
      "outputs": []
    },
    {
      "cell_type": "code",
      "metadata": {
        "id": "cgpOtvO9MHwF",
        "colab_type": "code",
        "colab": {}
      },
      "source": [
        "model = LogisticRegression()\n",
        "result = model.fit(x_train, y_train)"
      ],
      "execution_count": 0,
      "outputs": []
    },
    {
      "cell_type": "code",
      "metadata": {
        "id": "5K13p4Dxcu9C",
        "colab_type": "code",
        "colab": {}
      },
      "source": [
        "y_pred1 = model.predict(x_train)\n",
        "y_pred2 = model.predict(x_test)"
      ],
      "execution_count": 0,
      "outputs": []
    },
    {
      "cell_type": "markdown",
      "metadata": {
        "id": "I1m8xgrvOKSU",
        "colab_type": "text"
      },
      "source": [
        "Sklearn Model Accuracy"
      ]
    },
    {
      "cell_type": "code",
      "metadata": {
        "id": "kNvyaTbhPGCa",
        "colab_type": "code",
        "colab": {
          "base_uri": "https://localhost:8080/",
          "height": 119
        },
        "outputId": "1ea9c92a-9cc0-4e5a-bb30-82f515e407c9"
      },
      "source": [
        "train_acc2 = str(round(accuracy_score(y_train, y_pred1)*100, 2)) + \"%\"\n",
        "test_acc2 = str(round(accuracy_score(y_test, y_pred2)*100, 2)) + \"%\"\n",
        "\n",
        "sklearn_model_accuracy = [[train_acc2, test_acc2]]\n",
        "print('Sklearn Model Accuracy')\n",
        "print(tabulate(sklearn_model_accuracy, headers=['Train dataset', 'Test dataset'], tablefmt='fancy_grid'))"
      ],
      "execution_count": 85,
      "outputs": [
        {
          "output_type": "stream",
          "text": [
            "Sklearn Model Accuracy\n",
            "╒═════════════════╤════════════════╕\n",
            "│ Train dataset   │ Test dataset   │\n",
            "╞═════════════════╪════════════════╡\n",
            "│ 95.57%          │ 94.15%         │\n",
            "╘═════════════════╧════════════════╛\n"
          ],
          "name": "stdout"
        }
      ]
    },
    {
      "cell_type": "markdown",
      "metadata": {
        "id": "UYI_JhAGONzp",
        "colab_type": "text"
      },
      "source": [
        "**Conclusion**\n",
        "> As you can see from the above results that using Logistic Regression (raw code) it was unlikely to fit a sigmoid curve after training the data nevertheless the accuracy to predict the type of wine as 0 (red) and 1 (white) was 75%. Whereas the accuracy using the sklearn's LogisticRegression linear model was 95%."
      ]
    }
  ]
}