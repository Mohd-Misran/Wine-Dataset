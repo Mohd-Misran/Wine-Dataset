{
  "nbformat": 4,
  "nbformat_minor": 0,
  "metadata": {
    "colab": {
      "name": "Wine Quality (Neural Networks).ipynb",
      "provenance": [],
      "collapsed_sections": []
    },
    "kernelspec": {
      "name": "python3",
      "display_name": "Python 3"
    },
    "widgets": {
      "application/vnd.jupyter.widget-state+json": {
        "d4f81e5e01c14d94bca7b7d0898b09d4": {
          "model_module": "@jupyter-widgets/controls",
          "model_name": "HBoxModel",
          "state": {
            "_view_name": "HBoxView",
            "_dom_classes": [],
            "_model_name": "HBoxModel",
            "_view_module": "@jupyter-widgets/controls",
            "_model_module_version": "1.5.0",
            "_view_count": null,
            "_view_module_version": "1.5.0",
            "box_style": "",
            "layout": "IPY_MODEL_38aeb057a814420ca25099bc748208c7",
            "_model_module": "@jupyter-widgets/controls",
            "children": [
              "IPY_MODEL_3c635971c2914887b9aade9efdd31fee",
              "IPY_MODEL_6099531a266e471ebbc6780588e76c7e"
            ]
          }
        },
        "38aeb057a814420ca25099bc748208c7": {
          "model_module": "@jupyter-widgets/base",
          "model_name": "LayoutModel",
          "state": {
            "_view_name": "LayoutView",
            "grid_template_rows": null,
            "right": null,
            "justify_content": null,
            "_view_module": "@jupyter-widgets/base",
            "overflow": null,
            "_model_module_version": "1.2.0",
            "_view_count": null,
            "flex_flow": null,
            "width": null,
            "min_width": null,
            "border": null,
            "align_items": null,
            "bottom": null,
            "_model_module": "@jupyter-widgets/base",
            "top": null,
            "grid_column": null,
            "overflow_y": null,
            "overflow_x": null,
            "grid_auto_flow": null,
            "grid_area": null,
            "grid_template_columns": null,
            "flex": null,
            "_model_name": "LayoutModel",
            "justify_items": null,
            "grid_row": null,
            "max_height": null,
            "align_content": null,
            "visibility": null,
            "align_self": null,
            "height": null,
            "min_height": null,
            "padding": null,
            "grid_auto_rows": null,
            "grid_gap": null,
            "max_width": null,
            "order": null,
            "_view_module_version": "1.2.0",
            "grid_template_areas": null,
            "object_position": null,
            "object_fit": null,
            "grid_auto_columns": null,
            "margin": null,
            "display": null,
            "left": null
          }
        },
        "3c635971c2914887b9aade9efdd31fee": {
          "model_module": "@jupyter-widgets/controls",
          "model_name": "IntProgressModel",
          "state": {
            "_view_name": "ProgressView",
            "style": "IPY_MODEL_83d16f43dcdd4bc2ad8564909de3cd56",
            "_dom_classes": [],
            "description": "100%",
            "_model_name": "IntProgressModel",
            "bar_style": "success",
            "max": 10000,
            "_view_module": "@jupyter-widgets/controls",
            "_model_module_version": "1.5.0",
            "value": 10000,
            "_view_count": null,
            "_view_module_version": "1.5.0",
            "orientation": "horizontal",
            "min": 0,
            "description_tooltip": null,
            "_model_module": "@jupyter-widgets/controls",
            "layout": "IPY_MODEL_8d2083fc39cc48e28d73f45ae653a4a5"
          }
        },
        "6099531a266e471ebbc6780588e76c7e": {
          "model_module": "@jupyter-widgets/controls",
          "model_name": "HTMLModel",
          "state": {
            "_view_name": "HTMLView",
            "style": "IPY_MODEL_87803631cba94630b3b68f9381c363d7",
            "_dom_classes": [],
            "description": "",
            "_model_name": "HTMLModel",
            "placeholder": "​",
            "_view_module": "@jupyter-widgets/controls",
            "_model_module_version": "1.5.0",
            "value": " 10000/10000 [08:00&lt;00:00, 20.79it/s]",
            "_view_count": null,
            "_view_module_version": "1.5.0",
            "description_tooltip": null,
            "_model_module": "@jupyter-widgets/controls",
            "layout": "IPY_MODEL_b034e1eb2d7142f0913f34b63f6160dd"
          }
        },
        "83d16f43dcdd4bc2ad8564909de3cd56": {
          "model_module": "@jupyter-widgets/controls",
          "model_name": "ProgressStyleModel",
          "state": {
            "_view_name": "StyleView",
            "_model_name": "ProgressStyleModel",
            "description_width": "initial",
            "_view_module": "@jupyter-widgets/base",
            "_model_module_version": "1.5.0",
            "_view_count": null,
            "_view_module_version": "1.2.0",
            "bar_color": null,
            "_model_module": "@jupyter-widgets/controls"
          }
        },
        "8d2083fc39cc48e28d73f45ae653a4a5": {
          "model_module": "@jupyter-widgets/base",
          "model_name": "LayoutModel",
          "state": {
            "_view_name": "LayoutView",
            "grid_template_rows": null,
            "right": null,
            "justify_content": null,
            "_view_module": "@jupyter-widgets/base",
            "overflow": null,
            "_model_module_version": "1.2.0",
            "_view_count": null,
            "flex_flow": null,
            "width": null,
            "min_width": null,
            "border": null,
            "align_items": null,
            "bottom": null,
            "_model_module": "@jupyter-widgets/base",
            "top": null,
            "grid_column": null,
            "overflow_y": null,
            "overflow_x": null,
            "grid_auto_flow": null,
            "grid_area": null,
            "grid_template_columns": null,
            "flex": null,
            "_model_name": "LayoutModel",
            "justify_items": null,
            "grid_row": null,
            "max_height": null,
            "align_content": null,
            "visibility": null,
            "align_self": null,
            "height": null,
            "min_height": null,
            "padding": null,
            "grid_auto_rows": null,
            "grid_gap": null,
            "max_width": null,
            "order": null,
            "_view_module_version": "1.2.0",
            "grid_template_areas": null,
            "object_position": null,
            "object_fit": null,
            "grid_auto_columns": null,
            "margin": null,
            "display": null,
            "left": null
          }
        },
        "87803631cba94630b3b68f9381c363d7": {
          "model_module": "@jupyter-widgets/controls",
          "model_name": "DescriptionStyleModel",
          "state": {
            "_view_name": "StyleView",
            "_model_name": "DescriptionStyleModel",
            "description_width": "",
            "_view_module": "@jupyter-widgets/base",
            "_model_module_version": "1.5.0",
            "_view_count": null,
            "_view_module_version": "1.2.0",
            "_model_module": "@jupyter-widgets/controls"
          }
        },
        "b034e1eb2d7142f0913f34b63f6160dd": {
          "model_module": "@jupyter-widgets/base",
          "model_name": "LayoutModel",
          "state": {
            "_view_name": "LayoutView",
            "grid_template_rows": null,
            "right": null,
            "justify_content": null,
            "_view_module": "@jupyter-widgets/base",
            "overflow": null,
            "_model_module_version": "1.2.0",
            "_view_count": null,
            "flex_flow": null,
            "width": null,
            "min_width": null,
            "border": null,
            "align_items": null,
            "bottom": null,
            "_model_module": "@jupyter-widgets/base",
            "top": null,
            "grid_column": null,
            "overflow_y": null,
            "overflow_x": null,
            "grid_auto_flow": null,
            "grid_area": null,
            "grid_template_columns": null,
            "flex": null,
            "_model_name": "LayoutModel",
            "justify_items": null,
            "grid_row": null,
            "max_height": null,
            "align_content": null,
            "visibility": null,
            "align_self": null,
            "height": null,
            "min_height": null,
            "padding": null,
            "grid_auto_rows": null,
            "grid_gap": null,
            "max_width": null,
            "order": null,
            "_view_module_version": "1.2.0",
            "grid_template_areas": null,
            "object_position": null,
            "object_fit": null,
            "grid_auto_columns": null,
            "margin": null,
            "display": null,
            "left": null
          }
        }
      }
    }
  },
  "cells": [
    {
      "cell_type": "markdown",
      "metadata": {
        "id": "8SjugHzC0CbB",
        "colab_type": "text"
      },
      "source": [
        "Importing required libraries"
      ]
    },
    {
      "cell_type": "code",
      "metadata": {
        "id": "lL6xSOlAyeDz",
        "colab_type": "code",
        "colab": {}
      },
      "source": [
        "import numpy as np\n",
        "import pandas as pd\n",
        "import matplotlib.pyplot as plt\n",
        "\n",
        "%matplotlib inline\n",
        "\n",
        "from sklearn.model_selection import train_test_split\n",
        "from sklearn.preprocessing import MinMaxScaler, OneHotEncoder\n",
        "from sklearn.decomposition import PCA\n",
        "from sklearn.metrics import accuracy_score\n",
        "\n",
        "from tqdm import notebook\n",
        "\n",
        "plt.style.use('ggplot')"
      ],
      "execution_count": 0,
      "outputs": []
    },
    {
      "cell_type": "markdown",
      "metadata": {
        "id": "HIv6njGY0Gub",
        "colab_type": "text"
      },
      "source": [
        "**Loading dataset from my google drive**\n",
        "> When prompted, click on the link to get authentication to allow Google to access your Drive. You should see a screen with “Google Cloud SDK wants to access your Google Account” at the top. After you allow permission, copy the given verification code and paste it in the box in Colab."
      ]
    },
    {
      "cell_type": "code",
      "metadata": {
        "id": "JacbuIiBy_LT",
        "colab_type": "code",
        "colab": {}
      },
      "source": [
        "!pip install -U -q PyDrive\n",
        "from pydrive.auth import GoogleAuth\n",
        "from pydrive.drive import GoogleDrive\n",
        "from google.colab import auth\n",
        "from oauth2client.client import GoogleCredentials\n",
        "# Authenticate and create the PyDrive client.\n",
        "auth.authenticate_user()\n",
        "gauth = GoogleAuth()\n",
        "gauth.credentials = GoogleCredentials.get_application_default()\n",
        "drive = GoogleDrive(gauth)"
      ],
      "execution_count": 0,
      "outputs": []
    },
    {
      "cell_type": "markdown",
      "metadata": {
        "id": "KhS124b70UoH",
        "colab_type": "text"
      },
      "source": [
        "Once you have completed verification, go to the CSV file in Google Drive, right-click on it and select “Get shareable link”. The link will be copied into your clipboard. Paste this link into a string variable in Colab."
      ]
    },
    {
      "cell_type": "code",
      "metadata": {
        "id": "PeVjH5XMzJFP",
        "colab_type": "code",
        "colab": {}
      },
      "source": [
        "link = \"https://drive.google.com/open?id=1-4kayelqVCPoy_9VbRvNEtpcJDz_1Qx7\""
      ],
      "execution_count": 0,
      "outputs": []
    },
    {
      "cell_type": "markdown",
      "metadata": {
        "id": "l6jXLbIw0Wpn",
        "colab_type": "text"
      },
      "source": [
        "What you want is the id portion after the equal sign. To get that portion, type in the following code:"
      ]
    },
    {
      "cell_type": "code",
      "metadata": {
        "id": "T3h4Plo1zSJl",
        "colab_type": "code",
        "colab": {
          "base_uri": "https://localhost:8080/",
          "height": 34
        },
        "outputId": "74022877-8275-4ebc-c777-ae30e977e9dc"
      },
      "source": [
        "fluff, id = link.split('=')\n",
        "print(id)"
      ],
      "execution_count": 4,
      "outputs": [
        {
          "output_type": "stream",
          "text": [
            "1-4kayelqVCPoy_9VbRvNEtpcJDz_1Qx7\n"
          ],
          "name": "stdout"
        }
      ]
    },
    {
      "cell_type": "markdown",
      "metadata": {
        "id": "OXIwL3D90h8E",
        "colab_type": "text"
      },
      "source": [
        "Finally, type in the following code to get the file into a dataframe"
      ]
    },
    {
      "cell_type": "code",
      "metadata": {
        "id": "RTHWosBYzT4e",
        "colab_type": "code",
        "colab": {}
      },
      "source": [
        "downloaded = drive.CreateFile({'id':id}) \n",
        "downloaded.GetContentFile('wine_quality.csv')  \n",
        "wine = pd.read_csv('wine_quality.csv')"
      ],
      "execution_count": 0,
      "outputs": []
    },
    {
      "cell_type": "markdown",
      "metadata": {
        "id": "qIZiZogL0nk0",
        "colab_type": "text"
      },
      "source": [
        "Checking all columns after loading the data from the drive"
      ]
    },
    {
      "cell_type": "code",
      "metadata": {
        "id": "NOD9J_r3zVrx",
        "colab_type": "code",
        "colab": {
          "base_uri": "https://localhost:8080/",
          "height": 102
        },
        "outputId": "41b0b2f2-7d97-4859-cb42-bb72d4afd774"
      },
      "source": [
        "wine.columns"
      ],
      "execution_count": 6,
      "outputs": [
        {
          "output_type": "execute_result",
          "data": {
            "text/plain": [
              "Index(['Unnamed: 0', 'fixed acidity', 'volatile acidity', 'citric acid',\n",
              "       'residual sugar', 'chlorides', 'free sulfur dioxide',\n",
              "       'total sulfur dioxide', 'density', 'pH', 'sulphates', 'alcohol',\n",
              "       'quality', 'type', 'quality_label'],\n",
              "      dtype='object')"
            ]
          },
          "metadata": {
            "tags": []
          },
          "execution_count": 6
        }
      ]
    },
    {
      "cell_type": "markdown",
      "metadata": {
        "id": "AVYJCQoi0py2",
        "colab_type": "text"
      },
      "source": [
        "Drop the extra column named 'Unnamed: 0'"
      ]
    },
    {
      "cell_type": "code",
      "metadata": {
        "id": "q2oOpWIJzZEx",
        "colab_type": "code",
        "colab": {}
      },
      "source": [
        "wine = wine.drop(['Unnamed: 0'], axis=1)"
      ],
      "execution_count": 0,
      "outputs": []
    },
    {
      "cell_type": "markdown",
      "metadata": {
        "id": "Dee5Vw3x0uZI",
        "colab_type": "text"
      },
      "source": [
        "Replacing the 'quality_label' column values\n",
        "* low to 0\n",
        "* medium to 1\n",
        "* high to 2\n"
      ]
    },
    {
      "cell_type": "code",
      "metadata": {
        "id": "8Y7qckNY7hOE",
        "colab_type": "code",
        "colab": {}
      },
      "source": [
        "wine = wine.replace(to_replace=['low','medium','high'], value=[0,1,2])"
      ],
      "execution_count": 0,
      "outputs": []
    },
    {
      "cell_type": "markdown",
      "metadata": {
        "id": "3_B49WrI1CQV",
        "colab_type": "text"
      },
      "source": [
        "Checking frequency of each quality label"
      ]
    },
    {
      "cell_type": "code",
      "metadata": {
        "id": "uLS6tiAHrPdP",
        "colab_type": "code",
        "colab": {
          "base_uri": "https://localhost:8080/",
          "height": 85
        },
        "outputId": "da287299-ed67-4307-f7e9-d5dd6c125057"
      },
      "source": [
        "wine['quality_label'].value_counts()"
      ],
      "execution_count": 9,
      "outputs": [
        {
          "output_type": "execute_result",
          "data": {
            "text/plain": [
              "1    3915\n",
              "0    2384\n",
              "2     198\n",
              "Name: quality_label, dtype: int64"
            ]
          },
          "metadata": {
            "tags": []
          },
          "execution_count": 9
        }
      ]
    },
    {
      "cell_type": "markdown",
      "metadata": {
        "id": "is315zm_1H8V",
        "colab_type": "text"
      },
      "source": [
        "Storing all attributes in features variable"
      ]
    },
    {
      "cell_type": "code",
      "metadata": {
        "id": "q0cAQhh5zbNA",
        "colab_type": "code",
        "colab": {}
      },
      "source": [
        "features = wine.values[:,:12]"
      ],
      "execution_count": 0,
      "outputs": []
    },
    {
      "cell_type": "markdown",
      "metadata": {
        "id": "yeogjPyN1OZf",
        "colab_type": "text"
      },
      "source": [
        "**Noramlization of features**\n",
        "> Transform features by scaling each feature to a given range. This estimator scales and translates each feature individually such that it is in the given range on the training set, e.g. between zero and one."
      ]
    },
    {
      "cell_type": "code",
      "metadata": {
        "id": "2Sz_uD5CzvAy",
        "colab_type": "code",
        "colab": {}
      },
      "source": [
        "scaler = MinMaxScaler()\n",
        "scaled_features = scaler.fit_transform(features)"
      ],
      "execution_count": 0,
      "outputs": []
    },
    {
      "cell_type": "markdown",
      "metadata": {
        "id": "b6kFzArN1maF",
        "colab_type": "text"
      },
      "source": [
        "**Principal Component Analysis (PCA)**\n",
        "> Linear dimensionality reduction using *Singular Value Decomposition* of the data to project it to a lower dimensional space. The input data is centered but not scaled for each feature before applying the SVD."
      ]
    },
    {
      "cell_type": "code",
      "metadata": {
        "id": "-iluaG0O5Ot9",
        "colab_type": "code",
        "colab": {}
      },
      "source": [
        "pca = PCA(n_components=0.9)\n",
        "reduced_features = pca.fit_transform(scaled_features)"
      ],
      "execution_count": 0,
      "outputs": []
    },
    {
      "cell_type": "markdown",
      "metadata": {
        "id": "XE2rWJUK16di",
        "colab_type": "text"
      },
      "source": [
        "Storing 'quality_label' in target variable"
      ]
    },
    {
      "cell_type": "code",
      "metadata": {
        "id": "o3LaYMtxzn1C",
        "colab_type": "code",
        "colab": {}
      },
      "source": [
        "target = wine['quality_label'].values"
      ],
      "execution_count": 0,
      "outputs": []
    },
    {
      "cell_type": "markdown",
      "metadata": {
        "id": "uc7E_3fX1_Uq",
        "colab_type": "text"
      },
      "source": [
        "**One Hot Encoding**\n",
        "> Encode categorical features as a one-hot numeric array. The input to this transformer should be an array-like of integers or strings, denoting the values taken on by categorical (discrete) features. The features are encoded using a one-hot (aka ‘one-of-K’ or ‘dummy’) encoding scheme. This creates a binary column for each category and returns a sparse matrix or dense array (depending on the sparse parameter)."
      ]
    },
    {
      "cell_type": "code",
      "metadata": {
        "id": "e86vTAuuztw2",
        "colab_type": "code",
        "colab": {}
      },
      "source": [
        "encoder = OneHotEncoder(handle_unknown='ignore')\n",
        "one_hot_targets = encoder.fit_transform(target.reshape(-1,1)).toarray()"
      ],
      "execution_count": 0,
      "outputs": []
    },
    {
      "cell_type": "markdown",
      "metadata": {
        "id": "LkcXlxpl51fQ",
        "colab_type": "text"
      },
      "source": [
        "**Neural Networks**\n",
        "> Neural networks are multi-layer networks of neurons (the blue and magenta nodes in the chart below) that we use to classify things, make predictions, etc. Below is the diagram of a simple neural network with five inputs, 5 outputs, and two hidden layers of neurons.\n",
        "![Neural network with two hidden layers](https://miro.medium.com/max/796/1*yGMk1GSKKbyKr_cMarlWnA.jpeg)\n",
        "Starting from the left, we have:\n",
        "1. The input layer of our model in orange.\n",
        "2. Our first hidden layer of neurons in blue.\n",
        "3. Our second hidden layer of neurons in magenta.\n",
        "4. The output layer (a.k.a. the prediction) of our model in green.\n",
        "\n",
        "For complete understanding of neural networks [Click here!](https://towardsdatascience.com/understanding-neural-networks-19020b758230)"
      ]
    },
    {
      "cell_type": "markdown",
      "metadata": {
        "id": "aI4Ucsu-2q7j",
        "colab_type": "text"
      },
      "source": [
        "**Activation Functions**:\n",
        "\n",
        "\n",
        "1.   *Sigmoid Activation Function* : It is a activation function of form f(x) = 1 / 1 + exp(-x) . Its Range is between 0 and 1. It is a S — shaped curve. It is easy to understand and apply but it has major reasons which have made it fall out of popularity - \n",
        "> * Vanishing gradient problem \n",
        "  * Secondly , its output isn’t zero centered. It makes the gradient updates go too far in different directions. 0 < output < 1, and it makes optimization harder.\n",
        "  * Sigmoids saturate and kill gradients.\n",
        "  * Sigmoids have slow convergence.\n",
        "2.   *Hyperbolic Tangent function- Tanh* : It’s mathamatical formula is f(x) = 1 — exp(-2x) / 1 + exp(-2x). Now it’s output is zero centered because its range in between -1 to 1 i.e -1 < output < 1 . Hence optimization is easier in this method hence in practice it is always preferred over Sigmoid function . But still it suffers from Vanishing gradient problem.\n",
        "3. *ReLu- Rectified Linear Units* : It has become very popular in the past couple of years. It was recently proved that it had 6 times improvement in convergence from Tanh function. It’s just R(x) = max(0,x) i.e if x < 0 , R(x) = 0 and if x >= 0 , R(x) = x. Hence as seeing the mathamatical form of this function we can see that it is very simple and efficinent . A lot of times in Machine learning and computer science we notice that most simple and consistent techniques and methods are only preferred and are best. Hence it avoids and rectifies vanishing gradient problem.\n",
        "> But its limitation is that it should only be used within Hidden layers of a Neural Network Model. Another problem with ReLu is that some gradients can be fragile during training and can die. It can cause a weight update which will makes it never activate on any data point again. Simply saying that ReLu could result in Dead Neurons. To fix this problem another modification was introduced called *Leaky ReLu* to fix the problem of dying neurons. It introduces a small slope to keep the updates alive.\n",
        "\n"
      ]
    },
    {
      "cell_type": "code",
      "metadata": {
        "id": "KZi6TtVx0L8b",
        "colab_type": "code",
        "colab": {}
      },
      "source": [
        "# Sigmoid Function\n",
        "def sigmoid(x):\n",
        "  return 1 / (1 + np.exp(-x))\n",
        "\n",
        "def dsigmoid(x):\n",
        "  return x * (1 - x)\n",
        "\n",
        "# Rectified Linear Unit Function\n",
        "def relu(x):\n",
        "  return abs(x) * (x > 0)\n",
        "\n",
        "def drelu(x):\n",
        "  return 1. * (x > 0.)\n",
        "\n",
        "# Leaky-Relu Function\n",
        "def lrelu(x):\n",
        "  return np.where(x > 0., x, x * 0.01)\n",
        "\n",
        "def dlrelu(x):\n",
        "  dx = np.ones_like(x)\n",
        "  dx[x < 0.] = 0.01\n",
        "  return dx\n",
        "\n",
        "# Hyperbolic Tan Function\n",
        "def tanh(x):\n",
        "  return np.tanh(x)\n",
        "\n",
        "def dtanh(x):\n",
        "  return 1.0 - (np.power(np.tanh(x), 2))"
      ],
      "execution_count": 0,
      "outputs": []
    },
    {
      "cell_type": "markdown",
      "metadata": {
        "id": "pdddMwZP8jKF",
        "colab_type": "text"
      },
      "source": [
        "**Forward propagation**\n",
        "> Forward propagation is the process of moving forward through the neural network (from inputs to the ultimate output or prediction). The objective of forward propagation is to calculate the activations at each neuron for each successive hidden layer until we arrive at the output."
      ]
    },
    {
      "cell_type": "markdown",
      "metadata": {
        "id": "rXaAc8tq7n32",
        "colab_type": "text"
      },
      "source": [
        "In our network here, we have only one hidden layer which is activated using the hyperbolic tan function and the output layer is activated using the sigmoid function."
      ]
    },
    {
      "cell_type": "code",
      "metadata": {
        "id": "hTb1CW7P0CI9",
        "colab_type": "code",
        "colab": {}
      },
      "source": [
        "def feed_forward(input_data, w0, w1):\n",
        "  layer0 = input_data\n",
        "  layer1 = tanh(np.dot(layer0, w0))\n",
        "  layer2 = sigmoid(np.dot(layer1, w1))\n",
        "\n",
        "  return layer0, layer1, layer2"
      ],
      "execution_count": 0,
      "outputs": []
    },
    {
      "cell_type": "markdown",
      "metadata": {
        "id": "0fJhn7X881lV",
        "colab_type": "text"
      },
      "source": [
        "**Back propagation**\n",
        "> Back propagation is the reverse of forward propagation. It allows us to calculate the error attributable to each neuron and that in turn allows us to calculate the partial derivatives and ultimately the gradient so that we can utilize gradient descent."
      ]
    },
    {
      "cell_type": "code",
      "metadata": {
        "id": "k3t5aFWp0T6-",
        "colab_type": "code",
        "colab": {}
      },
      "source": [
        "def back_propagate(layer0, layer1, layer2, w0, w1, output_data, learning_rate):\n",
        "  l2_error = layer2 - output_data\n",
        "  l2_delta = l2_error * dsigmoid(layer2)\n",
        "  dh2 = np.dot(layer1.T, l2_delta)\n",
        "\n",
        "  l1_error = l2_delta.dot(w1.T)\n",
        "  l1_delta = l1_error * dtanh(layer1)\n",
        "  dh1 = np.dot(layer0.T, l1_delta)\n",
        "\n",
        "  w0 = w0 - (dh1 * learning_rate)\n",
        "  w1 = w1 - (dh2 * learning_rate)\n",
        "\n",
        "  return w0, w1"
      ],
      "execution_count": 0,
      "outputs": []
    },
    {
      "cell_type": "markdown",
      "metadata": {
        "id": "sSe9zTm6M0Jd",
        "colab_type": "text"
      },
      "source": [
        "Predict accuracy function"
      ]
    },
    {
      "cell_type": "code",
      "metadata": {
        "id": "LMht7gdH0WJN",
        "colab_type": "code",
        "colab": {}
      },
      "source": [
        "def accuracy(X, Y):\n",
        "  l0, l1, l2 = feed_forward(X, w0, w1)\n",
        "  y_pred = np.argmax(l2, axis=1)\n",
        "  y_true = np.argmax(Y, axis=1)\n",
        "  return accuracy_score(y_true, y_pred)*100"
      ],
      "execution_count": 0,
      "outputs": []
    },
    {
      "cell_type": "markdown",
      "metadata": {
        "id": "RSZuzWOvM3Yx",
        "colab_type": "text"
      },
      "source": [
        "Get model description function"
      ]
    },
    {
      "cell_type": "code",
      "metadata": {
        "id": "6y-GYdDT0YGO",
        "colab_type": "code",
        "colab": {}
      },
      "source": [
        "def model_descr(weights):\n",
        "  total = 0\n",
        "  print(\"Weight ip-op\", \"Layer shape\", \"Layer parameters\", sep=\"\\t\")\n",
        "  for i, l in enumerate(weights):\n",
        "    params = l.shape[0]*l.shape[1]\n",
        "    # l.shape[0] gives row shape and l.shape[1] gives column shape\n",
        "    total += params\n",
        "    print(f\"Layer {i}-{i+1}\", l.shape, params, sep=\"\\t\")\n",
        "\n",
        "  print(\"\\nTotal trainable parameters: \", total)"
      ],
      "execution_count": 0,
      "outputs": []
    },
    {
      "cell_type": "markdown",
      "metadata": {
        "id": "7i_cAt8QCrXk",
        "colab_type": "text"
      },
      "source": [
        "Splitting dataset for training and testing"
      ]
    },
    {
      "cell_type": "code",
      "metadata": {
        "id": "Wns5rmhw0aTZ",
        "colab_type": "code",
        "colab": {}
      },
      "source": [
        "xtrain, xtest, ytrain, ytest = train_test_split(reduced_features, one_hot_targets, test_size=0.3)"
      ],
      "execution_count": 0,
      "outputs": []
    },
    {
      "cell_type": "code",
      "metadata": {
        "id": "33-0QHxA0fkG",
        "colab_type": "code",
        "colab": {
          "base_uri": "https://localhost:8080/",
          "height": 51
        },
        "outputId": "0c8d89d9-d09a-428a-b4f0-906755d99f6f"
      },
      "source": [
        "print(len(xtrain))\n",
        "input_nodes = len(xtrain[0])\n",
        "print(input_nodes)"
      ],
      "execution_count": 94,
      "outputs": [
        {
          "output_type": "stream",
          "text": [
            "4547\n",
            "7\n"
          ],
          "name": "stdout"
        }
      ]
    },
    {
      "cell_type": "markdown",
      "metadata": {
        "id": "zij_ijFICyeH",
        "colab_type": "text"
      },
      "source": [
        "Defining weights"
      ]
    },
    {
      "cell_type": "code",
      "metadata": {
        "id": "EMIT382-0ipH",
        "colab_type": "code",
        "colab": {}
      },
      "source": [
        "np.random.seed(1)\n",
        "\n",
        "w0 = np.random.random((input_nodes, 90))\n",
        "w1 = np.random.random((90, 3))"
      ],
      "execution_count": 0,
      "outputs": []
    },
    {
      "cell_type": "markdown",
      "metadata": {
        "id": "M-tP1HZGC0VF",
        "colab_type": "text"
      },
      "source": [
        "Defining learning rate and iterations"
      ]
    },
    {
      "cell_type": "code",
      "metadata": {
        "id": "_c-snQOn06XE",
        "colab_type": "code",
        "colab": {}
      },
      "source": [
        "learning_rate = 0.01\n",
        "iterations = 10000"
      ],
      "execution_count": 0,
      "outputs": []
    },
    {
      "cell_type": "markdown",
      "metadata": {
        "id": "q--HNjHhC39U",
        "colab_type": "text"
      },
      "source": [
        "Printing model description"
      ]
    },
    {
      "cell_type": "code",
      "metadata": {
        "id": "D6_3jCwj08vg",
        "colab_type": "code",
        "colab": {
          "base_uri": "https://localhost:8080/",
          "height": 102
        },
        "outputId": "a20f66cf-6520-4057-dd03-6044c33ae0db"
      },
      "source": [
        "model_descr([w0,w1])"
      ],
      "execution_count": 97,
      "outputs": [
        {
          "output_type": "stream",
          "text": [
            "Weight ip-op\tLayer shape\tLayer parameters\n",
            "Layer 0-1\t(7, 90)\t630\n",
            "Layer 1-2\t(90, 3)\t270\n",
            "\n",
            "Total trainable parameters:  900\n"
          ],
          "name": "stdout"
        }
      ]
    },
    {
      "cell_type": "markdown",
      "metadata": {
        "id": "wLyAYFaRDR0j",
        "colab_type": "text"
      },
      "source": [
        "Training the model"
      ]
    },
    {
      "cell_type": "code",
      "metadata": {
        "id": "-nYzLfNb0-hz",
        "colab_type": "code",
        "colab": {
          "base_uri": "https://localhost:8080/",
          "height": 236,
          "referenced_widgets": [
            "d4f81e5e01c14d94bca7b7d0898b09d4",
            "38aeb057a814420ca25099bc748208c7",
            "3c635971c2914887b9aade9efdd31fee",
            "6099531a266e471ebbc6780588e76c7e",
            "83d16f43dcdd4bc2ad8564909de3cd56",
            "8d2083fc39cc48e28d73f45ae653a4a5",
            "87803631cba94630b3b68f9381c363d7",
            "b034e1eb2d7142f0913f34b63f6160dd"
          ]
        },
        "outputId": "eaf8ea67-14dd-43e3-f7dc-3bbdd1fb0481"
      },
      "source": [
        "# Initializing variables to track Loss vs. Iterations and Accuracy vs. Iterations\n",
        "tloss = 0\n",
        "vloss = 0\n",
        "train_loss = []\n",
        "val_loss = []\n",
        "\n",
        "tacc = 0\n",
        "vacc = 0\n",
        "train_acc = []\n",
        "val_acc = []\n",
        "\n",
        "iters1 = []\n",
        "iters2 = []\n",
        "\n",
        "for i in notebook.tqdm(range(iterations)):\n",
        "\n",
        "  # Training model\n",
        "  layer0, layer1, layer2 = feed_forward(xtrain, w0, w1)\n",
        "  w0, w1 = back_propagate(layer0, layer1, layer2, w0, w1, ytrain, learning_rate)\n",
        "\n",
        "  if i%10==0:\n",
        "    l0, l1, l2 = feed_forward(xtest, w0, w1)\n",
        "    tloss = np.mean(np.abs(layer2 - ytrain)) # Collect train loss values\n",
        "    vloss = np.mean(np.abs(l2 - ytest))      # Collect validation loss values\n",
        "\n",
        "    # Append for plotting Loss vs. Iterations\n",
        "    train_loss.append(tloss)\n",
        "    val_loss.append(vloss)\n",
        "    iters1.append(int(i))\n",
        "\n",
        "  if i%1000==0:\n",
        "    tacc = accuracy(xtrain, ytrain)\n",
        "    vacc = accuracy(xtest, ytest)\n",
        "    print(\"Train Loss: %.5f | Validation Loss: %.5f | Training Accuracy: %.5f | Testing Accuracy: %.5f\" %(tloss, vloss, tacc, vacc))\n",
        "\n",
        "    # Append for plotting Accuracy vs. Iterations\n",
        "    train_acc.append(tacc)\n",
        "    val_acc.append(vacc)\n",
        "    iters2.append(int(i))"
      ],
      "execution_count": 98,
      "outputs": [
        {
          "output_type": "display_data",
          "data": {
            "application/vnd.jupyter.widget-view+json": {
              "model_id": "d4f81e5e01c14d94bca7b7d0898b09d4",
              "version_minor": 0,
              "version_major": 2
            },
            "text/plain": [
              "HBox(children=(IntProgress(value=0, max=10000), HTML(value='')))"
            ]
          },
          "metadata": {
            "tags": []
          }
        },
        {
          "output_type": "stream",
          "text": [
            "Train Loss: 0.49384 | Validation Loss: 0.48349 | Training Accuracy: 67.09919 | Testing Accuracy: 65.84615\n",
            "Train Loss: 0.08442 | Validation Loss: 0.08314 | Training Accuracy: 95.99736 | Testing Accuracy: 95.74359\n",
            "Train Loss: 0.07462 | Validation Loss: 0.07427 | Training Accuracy: 96.19529 | Testing Accuracy: 95.84615\n",
            "Train Loss: 0.07158 | Validation Loss: 0.07180 | Training Accuracy: 96.34924 | Testing Accuracy: 96.15385\n",
            "Train Loss: 0.07614 | Validation Loss: 0.07023 | Training Accuracy: 96.54717 | Testing Accuracy: 96.20513\n",
            "Train Loss: 0.07234 | Validation Loss: 0.07090 | Training Accuracy: 96.45920 | Testing Accuracy: 96.41026\n",
            "Train Loss: 0.06436 | Validation Loss: 0.06535 | Training Accuracy: 96.50319 | Testing Accuracy: 96.30769\n",
            "Train Loss: 0.06674 | Validation Loss: 0.06431 | Training Accuracy: 96.70112 | Testing Accuracy: 96.61538\n",
            "Train Loss: 0.06438 | Validation Loss: 0.06489 | Training Accuracy: 96.74511 | Testing Accuracy: 96.61538\n",
            "Train Loss: 0.05735 | Validation Loss: 0.05715 | Training Accuracy: 96.85507 | Testing Accuracy: 96.61538\n",
            "\n"
          ],
          "name": "stdout"
        }
      ]
    },
    {
      "cell_type": "markdown",
      "metadata": {
        "id": "oxL3vwVhDZim",
        "colab_type": "text"
      },
      "source": [
        "*   Plotting Train Loss vs. Validation Loss\n",
        "*   Plotting Training Accuracy vs. Validation Accuracy\n"
      ]
    },
    {
      "cell_type": "code",
      "metadata": {
        "id": "2sQbbd-31BtB",
        "colab_type": "code",
        "colab": {
          "base_uri": "https://localhost:8080/",
          "height": 445
        },
        "outputId": "d4fbb2be-3463-479b-c59c-699fc1ac58ae"
      },
      "source": [
        "with plt.style.context('dark_background'):\n",
        "  fig= plt.figure(figsize=(15,7))\n",
        "\n",
        "  plt.subplot(1,2,1)\n",
        "  plt.plot(iters1, train_loss, 'r', label=\"Train Loss\")\n",
        "  plt.plot(iters1, val_loss, 'b--', label=\"Validation Loss\")\n",
        "  plt.xlabel(\"Iterations\")\n",
        "  plt.ylabel(\"Loss\")\n",
        "  plt.legend()\n",
        "\n",
        "  plt.subplot(1,2,2)\n",
        "  plt.plot(iters2, train_acc, 'r', label=\"Training Accuracy\")\n",
        "  plt.plot(iters2, val_acc, 'b--', label=\"Validation Accuracy\")\n",
        "  plt.xlabel(\"Iterations\")\n",
        "  plt.ylabel(\"Accuracy\")\n",
        "  plt.legend()"
      ],
      "execution_count": 99,
      "outputs": [
        {
          "output_type": "display_data",
          "data": {
            "image/png": "[encoded data removed]",
            "text/plain": [
              "<Figure size 1080x504 with 2 Axes>"
            ]
          },
          "metadata": {
            "tags": []
          }
        }
      ]
    },
    {
      "cell_type": "markdown",
      "metadata": {
        "id": "uAIJ5VoqDlys",
        "colab_type": "text"
      },
      "source": [
        "**Conclusion**\n",
        "> As you can see from the above results that we can predict the quality of wine as low, medium or high with an accuracy of almost 97%!"
      ]
    }
  ]
}